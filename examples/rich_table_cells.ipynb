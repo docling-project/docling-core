{
 "cells": [
  {
   "cell_type": "code",
   "execution_count": 1,
   "id": "81ee4096",
   "metadata": {},
   "outputs": [],
   "source": [
    "from docling_core.types.doc import DoclingDocument, TableData, TableCell, RichTableCell, DocItemLabel\n",
    "\n",
    "doc = DoclingDocument(name=\"\")\n",
    "doc.add_text(label=DocItemLabel.TITLE, text=\"Rich tables\")\n",
    "\n",
    "table_item = doc.add_table(\n",
    "    data=TableData(\n",
    "        num_rows=3,\n",
    "        num_cols=2,\n",
    "    ),\n",
    ")\n",
    "\n",
    "rich_item = doc.add_list_group(parent=table_item)\n",
    "doc.add_list_item(parent=rich_item, text=\"list item 1\")\n",
    "doc.add_list_item(parent=rich_item, text=\"list item 2\")\n",
    "\n",
    "for i in range(table_item.data.num_rows):\n",
    "    for j in range(table_item.data.num_cols):\n",
    "        if i == 1 and j == 1:\n",
    "            cell = RichTableCell(\n",
    "                start_row_offset_idx=i,\n",
    "                end_row_offset_idx=i + 1,\n",
    "                start_col_offset_idx=j,\n",
    "                end_col_offset_idx=j + 1,\n",
    "                ref=rich_item.get_ref(),\n",
    "            )\n",
    "        else:\n",
    "            cell = TableCell(\n",
    "                start_row_offset_idx=i,\n",
    "                end_row_offset_idx=i + 1,\n",
    "                start_col_offset_idx=j,\n",
    "                end_col_offset_idx=j + 1,\n",
    "                text=f\"cell {i},{j}\",\n",
    "            )\n",
    "        doc.add_table_cell(table_item=table_item, cell=cell)"
   ]
  },
  {
   "cell_type": "markdown",
   "id": "7ef93338",
   "metadata": {},
   "source": [
    "## Doc-level exports"
   ]
  },
  {
   "cell_type": "code",
   "execution_count": 2,
   "id": "ba4d71d9",
   "metadata": {},
   "outputs": [
    {
     "name": "stdout",
     "output_type": "stream",
     "text": [
      "# Rich tables\n",
      "\n",
      "| cell 0,0   | cell 0,1                    |\n",
      "|------------|-----------------------------|\n",
      "| cell 1,0   | - list item 1 - list item 2 |\n",
      "| cell 2,0   | cell 2,1                    |\n"
     ]
    }
   ],
   "source": [
    "print(doc.export_to_markdown())"
   ]
  },
  {
   "cell_type": "code",
   "execution_count": 3,
   "id": "8a528e15",
   "metadata": {},
   "outputs": [
    {
     "name": "stdout",
     "output_type": "stream",
     "text": [
      "em;\n",
      "    }\n",
      "</style>\n",
      "</head>\n",
      "<body>\n",
      "<div class='page'>\n",
      "<h1>Rich tables</h1>\n",
      "<table><tbody><tr><td>cell 0,0</td><td>cell 0,1</td></tr><tr><td>cell 1,0</td><td><ul>\n",
      "<li>list item 1</li>\n",
      "<li>list item 2</li>\n",
      "</ul></td></tr><tr><td>cell 2,0</td><td>cell 2,1</td></tr></tbody></table>\n",
      "</div>\n",
      "</body>\n",
      "</html>\n"
     ]
    }
   ],
   "source": [
    "print(doc.export_to_html()[-300:])"
   ]
  },
  {
   "cell_type": "code",
   "execution_count": 4,
   "id": "e9ddfa73",
   "metadata": {},
   "outputs": [
    {
     "name": "stdout",
     "output_type": "stream",
     "text": [
      "<doctag><title>Rich tables</title>\n",
      "<otsl><fcel>cell 0,0<fcel>cell 0,1<nl><fcel>cell 1,0<fcel>- list item 1\n",
      "- list item 2<nl><fcel>cell 2,0<fcel>cell 2,1<nl></otsl>\n",
      "</doctag>\n"
     ]
    }
   ],
   "source": [
    "print(doc.export_to_doctags())"
   ]
  },
  {
   "cell_type": "code",
   "execution_count": 5,
   "id": "04b08710",
   "metadata": {},
   "outputs": [
    {
     "name": "stdout",
     "output_type": "stream",
     "text": [
      "item-0 at level 0: unspecified: group _root_\n",
      "  item-1 at level 1: title: Rich tables\n",
      "  item-2 at level 1: table with [3x2]\n",
      "    item-3 at level 2: list: group group\n",
      "      item-4 at level 3: list_item: list item 1\n",
      "      item-5 at level 3: list_item: list item 2\n"
     ]
    }
   ],
   "source": [
    "print(doc._export_to_indented_text())"
   ]
  },
  {
   "cell_type": "markdown",
   "id": "42efa550",
   "metadata": {},
   "source": [
    "## Item-level exports"
   ]
  },
  {
   "cell_type": "markdown",
   "id": "4b1de5bf",
   "metadata": {},
   "source": [
    "### With document reference"
   ]
  },
  {
   "cell_type": "code",
   "execution_count": 6,
   "id": "5fea4de1",
   "metadata": {},
   "outputs": [
    {
     "name": "stdout",
     "output_type": "stream",
     "text": [
      "| cell 0,0   | cell 0,1                    |\n",
      "|------------|-----------------------------|\n",
      "| cell 1,0   | - list item 1 - list item 2 |\n",
      "| cell 2,0   | cell 2,1                    |\n"
     ]
    }
   ],
   "source": [
    "print(doc.tables[0].export_to_markdown(doc=doc))"
   ]
  },
  {
   "cell_type": "code",
   "execution_count": 7,
   "id": "c6d8dec4",
   "metadata": {},
   "outputs": [
    {
     "name": "stdout",
     "output_type": "stream",
     "text": [
      "<table><tbody><tr><td>cell 0,0</td><td>cell 0,1</td></tr><tr><td>cell 1,0</td><td><ul>\n",
      "<li>list item 1</li>\n",
      "<li>list item 2</li>\n",
      "</ul></td></tr><tr><td>cell 2,0</td><td>cell 2,1</td></tr></tbody></table>\n"
     ]
    }
   ],
   "source": [
    "print(doc.tables[0].export_to_html(doc=doc))"
   ]
  },
  {
   "cell_type": "code",
   "execution_count": 8,
   "id": "5aaecb64",
   "metadata": {},
   "outputs": [
    {
     "name": "stdout",
     "output_type": "stream",
     "text": [
      "<otsl><fcel>cell 0,0<fcel>cell 0,1<nl><fcel>cell 1,0<fcel>- list item 1\n",
      "- list item 2<nl><fcel>cell 2,0<fcel>cell 2,1<nl></otsl>\n"
     ]
    }
   ],
   "source": [
    "print(doc.tables[0].export_to_doctags(doc=doc))\n"
   ]
  },
  {
   "cell_type": "code",
   "execution_count": 9,
   "id": "6092fbb6",
   "metadata": {},
   "outputs": [
    {
     "name": "stdout",
     "output_type": "stream",
     "text": [
      "<fcel>cell 0,0<fcel>cell 0,1<nl><fcel>cell 1,0<fcel>- list item 1\n",
      "- list item 2<nl><fcel>cell 2,0<fcel>cell 2,1<nl>\n"
     ]
    }
   ],
   "source": [
    "print(doc.tables[0].export_to_otsl(doc=doc))"
   ]
  },
  {
   "cell_type": "code",
   "execution_count": 10,
   "id": "46c2de7e",
   "metadata": {},
   "outputs": [
    {
     "data": {
      "text/html": [
       "<div>\n",
       "<style scoped>\n",
       "    .dataframe tbody tr th:only-of-type {\n",
       "        vertical-align: middle;\n",
       "    }\n",
       "\n",
       "    .dataframe tbody tr th {\n",
       "        vertical-align: top;\n",
       "    }\n",
       "\n",
       "    .dataframe thead th {\n",
       "        text-align: right;\n",
       "    }\n",
       "</style>\n",
       "<table border=\"1\" class=\"dataframe\">\n",
       "  <thead>\n",
       "    <tr style=\"text-align: right;\">\n",
       "      <th></th>\n",
       "      <th>0</th>\n",
       "      <th>1</th>\n",
       "    </tr>\n",
       "  </thead>\n",
       "  <tbody>\n",
       "    <tr>\n",
       "      <th>0</th>\n",
       "      <td>cell 0,0</td>\n",
       "      <td>cell 0,1</td>\n",
       "    </tr>\n",
       "    <tr>\n",
       "      <th>1</th>\n",
       "      <td>cell 1,0</td>\n",
       "      <td>- list item 1\\n- list item 2</td>\n",
       "    </tr>\n",
       "    <tr>\n",
       "      <th>2</th>\n",
       "      <td>cell 2,0</td>\n",
       "      <td>cell 2,1</td>\n",
       "    </tr>\n",
       "  </tbody>\n",
       "</table>\n",
       "</div>"
      ],
      "text/plain": [
       "          0                             1\n",
       "0  cell 0,0                      cell 0,1\n",
       "1  cell 1,0  - list item 1\\n- list item 2\n",
       "2  cell 2,0                      cell 2,1"
      ]
     },
     "metadata": {},
     "output_type": "display_data"
    }
   ],
   "source": [
    "display(doc.tables[0].export_to_dataframe(doc=doc))"
   ]
  },
  {
   "cell_type": "markdown",
   "id": "d8e7ba5b",
   "metadata": {},
   "source": [
    "### Without document reference"
   ]
  },
  {
   "cell_type": "code",
   "execution_count": 11,
   "id": "5098f6a5",
   "metadata": {},
   "outputs": [
    {
     "name": "stderr",
     "output_type": "stream",
     "text": [
      "Usage of TableItem.export_to_markdown() without `doc` argument is deprecated.\n"
     ]
    },
    {
     "name": "stdout",
     "output_type": "stream",
     "text": [
      "| cell 0,0   | cell 0,1           |\n",
      "|------------|--------------------|\n",
      "| cell 1,0   | <!-- rich cell --> |\n",
      "| cell 2,0   | cell 2,1           |\n"
     ]
    }
   ],
   "source": [
    "print(doc.tables[0].export_to_markdown())"
   ]
  },
  {
   "cell_type": "code",
   "execution_count": 12,
   "id": "6d1c43e5",
   "metadata": {},
   "outputs": [
    {
     "name": "stderr",
     "output_type": "stream",
     "text": [
      "Usage of TableItem.export_to_html() without `doc` argument is deprecated.\n"
     ]
    },
    {
     "name": "stdout",
     "output_type": "stream",
     "text": [
      "\n"
     ]
    }
   ],
   "source": [
    "print(doc.tables[0].export_to_html())"
   ]
  },
  {
   "cell_type": "code",
   "execution_count": 13,
   "id": "89c9a3c4",
   "metadata": {},
   "outputs": [
    {
     "name": "stderr",
     "output_type": "stream",
     "text": [
      "Usage of TableItem.export_to_dataframe() without `doc` argument is deprecated.\n"
     ]
    },
    {
     "data": {
      "text/html": [
       "<div>\n",
       "<style scoped>\n",
       "    .dataframe tbody tr th:only-of-type {\n",
       "        vertical-align: middle;\n",
       "    }\n",
       "\n",
       "    .dataframe tbody tr th {\n",
       "        vertical-align: top;\n",
       "    }\n",
       "\n",
       "    .dataframe thead th {\n",
       "        text-align: right;\n",
       "    }\n",
       "</style>\n",
       "<table border=\"1\" class=\"dataframe\">\n",
       "  <thead>\n",
       "    <tr style=\"text-align: right;\">\n",
       "      <th></th>\n",
       "      <th>0</th>\n",
       "      <th>1</th>\n",
       "    </tr>\n",
       "  </thead>\n",
       "  <tbody>\n",
       "    <tr>\n",
       "      <th>0</th>\n",
       "      <td>cell 0,0</td>\n",
       "      <td>cell 0,1</td>\n",
       "    </tr>\n",
       "    <tr>\n",
       "      <th>1</th>\n",
       "      <td>cell 1,0</td>\n",
       "      <td>&lt;!-- rich cell --&gt;</td>\n",
       "    </tr>\n",
       "    <tr>\n",
       "      <th>2</th>\n",
       "      <td>cell 2,0</td>\n",
       "      <td>cell 2,1</td>\n",
       "    </tr>\n",
       "  </tbody>\n",
       "</table>\n",
       "</div>"
      ],
      "text/plain": [
       "          0                   1\n",
       "0  cell 0,0            cell 0,1\n",
       "1  cell 1,0  <!-- rich cell -->\n",
       "2  cell 2,0            cell 2,1"
      ]
     },
     "metadata": {},
     "output_type": "display_data"
    }
   ],
   "source": [
    "display(doc.tables[0].export_to_dataframe())"
   ]
  },
  {
   "cell_type": "markdown",
   "id": "32db55c8",
   "metadata": {},
   "source": [
    "## Row operations"
   ]
  },
  {
   "cell_type": "code",
   "execution_count": 14,
   "id": "7c419c46",
   "metadata": {},
   "outputs": [
    {
     "name": "stdout",
     "output_type": "stream",
     "text": [
      "# Rich tables\n",
      "\n",
      "| cell 0,0   | cell 0,1                    |\n",
      "|------------|-----------------------------|\n",
      "| foo        | bar                         |\n",
      "| cell 1,0   | - list item 1 - list item 2 |\n",
      "| cell 2,0   | cell 2,1                    |\n"
     ]
    }
   ],
   "source": [
    "doc.tables[0].data.insert_row(\n",
    "    row_index=1,\n",
    "    after=False,\n",
    "    row=[\"foo\", \"bar\"],\n",
    ")\n",
    "print(doc.export_to_markdown())"
   ]
  },
  {
   "cell_type": "code",
   "execution_count": 15,
   "id": "7a56d5fa",
   "metadata": {},
   "outputs": [],
   "source": [
    "backup_doc = doc.model_copy(deep=True)"
   ]
  },
  {
   "cell_type": "code",
   "execution_count": 16,
   "id": "31fcb3f7",
   "metadata": {},
   "outputs": [
    {
     "name": "stderr",
     "output_type": "stream",
     "text": [
      "When table contains rich cells, `doc` argument must be provided, otherwise rich cell content will be left dangling.\n"
     ]
    }
   ],
   "source": [
    "_ = doc.tables[0].data.remove_row(row_index=2)"
   ]
  },
  {
   "cell_type": "code",
   "execution_count": 17,
   "id": "cb5827fd",
   "metadata": {},
   "outputs": [
    {
     "name": "stdout",
     "output_type": "stream",
     "text": [
      "# Rich tables\n",
      "\n",
      "| cell 0,0   | cell 0,1   |\n",
      "|------------|------------|\n",
      "| foo        | bar        |\n",
      "| cell 2,0   | cell 2,1   |\n",
      "\n",
      "- list item 1\n",
      "- list item 2\n"
     ]
    }
   ],
   "source": [
    "print(doc.export_to_markdown())"
   ]
  },
  {
   "cell_type": "code",
   "execution_count": 18,
   "id": "4b3f75ba",
   "metadata": {},
   "outputs": [
    {
     "name": "stdout",
     "output_type": "stream",
     "text": [
      "# Rich tables\n",
      "\n",
      "| cell 0,0   | cell 0,1   |\n",
      "|------------|------------|\n",
      "| foo        | bar        |\n",
      "| cell 2,0   | cell 2,1   |\n"
     ]
    }
   ],
   "source": [
    "backup_doc.tables[0].data.remove_row(row_index=2, doc=backup_doc)\n",
    "\n",
    "print(backup_doc.export_to_markdown())"
   ]
  },
  {
   "cell_type": "code",
   "execution_count": null,
   "id": "4c77b2c9",
   "metadata": {},
   "outputs": [],
   "source": []
  }
 ],
 "metadata": {
  "kernelspec": {
   "display_name": ".venv",
   "language": "python",
   "name": "python3"
  },
  "language_info": {
   "codemirror_mode": {
    "name": "ipython",
    "version": 3
   },
   "file_extension": ".py",
   "mimetype": "text/x-python",
   "name": "python",
   "nbconvert_exporter": "python",
   "pygments_lexer": "ipython3",
   "version": "3.12.11"
  }
 },
 "nbformat": 4,
 "nbformat_minor": 5
}
